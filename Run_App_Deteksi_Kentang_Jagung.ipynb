{
  "cells": [
    {
      "cell_type": "markdown",
      "metadata": {
        "id": "iord4tfWrKCw"
      },
      "source": [
        "**Deteksi Penyakit Daun Pada Tanaman Kentang dan Jagung**\n",
        "\n",
        "Kelompok Starla 4\n",
        "- Irma Amanda Putri\n",
        "- Gizka Refyana Putri\n",
        "- Afni Virda Afniva\n",
        "- Ichsan Fajrie Wandhana\n",
        "\n",
        "Orbit Future Academy - AI Mastery - KM Batch 4 <br>"
      ]
    },
    {
      "cell_type": "code",
      "execution_count": 1,
      "metadata": {
        "colab": {
          "base_uri": "https://localhost:8080/"
        },
        "id": "sL8UHhL00Os5",
        "outputId": "1b12c62a-9f87-49f7-8e04-1d5bd7bf9d4c"
      },
      "outputs": [
        {
          "output_type": "stream",
          "name": "stdout",
          "text": [
            "Name: tensorflow\n",
            "Version: 2.12.0\n",
            "Summary: TensorFlow is an open source machine learning framework for everyone.\n",
            "Home-page: https://www.tensorflow.org/\n",
            "Author: Google Inc.\n",
            "Author-email: packages@tensorflow.org\n",
            "License: Apache 2.0\n",
            "Location: /usr/local/lib/python3.10/dist-packages\n",
            "Requires: absl-py, astunparse, flatbuffers, gast, google-pasta, grpcio, h5py, jax, keras, libclang, numpy, opt-einsum, packaging, protobuf, setuptools, six, tensorboard, tensorflow-estimator, tensorflow-io-gcs-filesystem, termcolor, typing-extensions, wrapt\n",
            "Required-by: dopamine-rl\n"
          ]
        }
      ],
      "source": [
        "# pastikan versi tensorflow == 2.12.0\n",
        "# jika tidak sesuai, install versi tensorflow yang sesuai\n",
        "!pip show tensorflow"
      ]
    },
    {
      "cell_type": "code",
      "execution_count": 2,
      "metadata": {
        "colab": {
          "base_uri": "https://localhost:8080/"
        },
        "id": "oKOPuoSNqpQ6",
        "outputId": "bb485560-09ec-4dc2-ac98-1bf688c6ed94"
      },
      "outputs": [
        {
          "output_type": "stream",
          "name": "stdout",
          "text": [
            "Completed!\n"
          ]
        }
      ],
      "source": [
        "# Melakukan Instalasi Packages yang Dibutuhkan\n",
        "!pip install flask --quiet\n",
        "!pip install flask-ngrok --quiet\n",
        "print(\"Completed!\")"
      ]
    },
    {
      "cell_type": "code",
      "execution_count": 3,
      "metadata": {
        "colab": {
          "base_uri": "https://localhost:8080/"
        },
        "id": "Tgh7OgSOsPia",
        "outputId": "97b91c50-d951-4406-f623-87a2256cac41"
      },
      "outputs": [
        {
          "output_type": "stream",
          "name": "stdout",
          "text": [
            "--2023-06-02 02:19:28--  https://bin.equinox.io/c/4VmDzA7iaHb/ngrok-stable-linux-amd64.tgz\n",
            "Resolving bin.equinox.io (bin.equinox.io)... 54.237.133.81, 18.205.222.128, 54.161.241.46, ...\n",
            "Connecting to bin.equinox.io (bin.equinox.io)|54.237.133.81|:443... connected.\n",
            "HTTP request sent, awaiting response... 200 OK\n",
            "Length: 13856790 (13M) [application/octet-stream]\n",
            "Saving to: ‘ngrok-stable-linux-amd64.tgz’\n",
            "\n",
            "ngrok-stable-linux- 100%[===================>]  13.21M  5.41MB/s    in 2.4s    \n",
            "\n",
            "2023-06-02 02:19:32 (5.41 MB/s) - ‘ngrok-stable-linux-amd64.tgz’ saved [13856790/13856790]\n",
            "\n",
            "ngrok\n"
          ]
        }
      ],
      "source": [
        "# Download \"ngrox\" \n",
        "!wget https://bin.equinox.io/c/4VmDzA7iaHb/ngrok-stable-linux-amd64.tgz\n",
        "!tar -xvf /content/ngrok-stable-linux-amd64.tgz "
      ]
    },
    {
      "cell_type": "code",
      "execution_count": 4,
      "metadata": {
        "colab": {
          "base_uri": "https://localhost:8080/"
        },
        "id": "dB467gFqseLS",
        "outputId": "afb4a2e0-9cca-43c3-cb48-09cd7d85c16b"
      },
      "outputs": [
        {
          "output_type": "stream",
          "name": "stdout",
          "text": [
            "Authtoken saved to configuration file: /root/.ngrok2/ngrok.yml\n"
          ]
        }
      ],
      "source": [
        "# Setting Token\n",
        "!./ngrok authtoken (token) # diganti dengan token Anda !"
      ]
    },
    {
      "cell_type": "code",
      "execution_count": 5,
      "metadata": {
        "colab": {
          "base_uri": "https://localhost:8080/"
        },
        "id": "cWfXavqOsks6",
        "outputId": "ac8a5200-86f4-45da-c0d4-73d5c9db0a76"
      },
      "outputs": [
        {
          "output_type": "stream",
          "name": "stdout",
          "text": [
            "Cloning into 'PAPotatoAndCorn'...\n",
            "remote: Enumerating objects: 289, done.\u001b[K\n",
            "remote: Counting objects: 100% (194/194), done.\u001b[K\n",
            "remote: Compressing objects: 100% (90/90), done.\u001b[K\n",
            "remote: Total 289 (delta 79), reused 170 (delta 75), pack-reused 95\u001b[K\n",
            "Receiving objects: 100% (289/289), 104.71 MiB | 15.29 MiB/s, done.\n",
            "Resolving deltas: 100% (79/79), done.\n"
          ]
        }
      ],
      "source": [
        "# Clone Repository dari Github\n",
        "!git clone https://github.com/gizkarp/PAPotatoAndCorn"
      ]
    },
    {
      "cell_type": "code",
      "execution_count": 6,
      "metadata": {
        "colab": {
          "base_uri": "https://localhost:8080/"
        },
        "id": "iGZja4JQ0w4h",
        "outputId": "d0e11d7c-dd71-4dd8-aebf-2e8e9bb2a134"
      },
      "outputs": [
        {
          "output_type": "stream",
          "name": "stdout",
          "text": [
            "/content/PAPotatoAndCorn\n"
          ]
        }
      ],
      "source": [
        "cd /content/PAPotatoAndCorn"
      ]
    },
    {
      "cell_type": "code",
      "execution_count": 7,
      "metadata": {
        "colab": {
          "base_uri": "https://localhost:8080/"
        },
        "id": "tjsHsYXjs0x2",
        "outputId": "fdec7118-ddb5-4cfb-ab9f-db7cfc57ac47"
      },
      "outputs": [
        {
          "output_type": "stream",
          "name": "stdout",
          "text": [
            "2023-06-02 02:19:42.941073: I tensorflow/core/platform/cpu_feature_guard.cc:182] This TensorFlow binary is optimized to use available CPU instructions in performance-critical operations.\n",
            "To enable the following instructions: AVX2 FMA, in other operations, rebuild TensorFlow with the appropriate compiler flags.\n",
            "2023-06-02 02:19:43.875137: W tensorflow/compiler/tf2tensorrt/utils/py_utils.cc:38] TF-TRT Warning: Could not find TensorRT\n",
            "2023-06-02 02:19:46.427925: I tensorflow/compiler/xla/stream_executor/cuda/cuda_gpu_executor.cc:996] successful NUMA node read from SysFS had negative value (-1), but there must be at least one NUMA node, so returning NUMA node zero. See more at https://github.com/torvalds/linux/blob/v6.0/Documentation/ABI/testing/sysfs-bus-pci#L344-L355\n",
            "2023-06-02 02:19:47.043635: I tensorflow/compiler/xla/stream_executor/cuda/cuda_gpu_executor.cc:996] successful NUMA node read from SysFS had negative value (-1), but there must be at least one NUMA node, so returning NUMA node zero. See more at https://github.com/torvalds/linux/blob/v6.0/Documentation/ABI/testing/sysfs-bus-pci#L344-L355\n",
            "2023-06-02 02:19:47.043973: I tensorflow/compiler/xla/stream_executor/cuda/cuda_gpu_executor.cc:996] successful NUMA node read from SysFS had negative value (-1), but there must be at least one NUMA node, so returning NUMA node zero. See more at https://github.com/torvalds/linux/blob/v6.0/Documentation/ABI/testing/sysfs-bus-pci#L344-L355\n",
            "2023-06-02 02:19:47.044788: I tensorflow/compiler/xla/stream_executor/cuda/cuda_gpu_executor.cc:996] successful NUMA node read from SysFS had negative value (-1), but there must be at least one NUMA node, so returning NUMA node zero. See more at https://github.com/torvalds/linux/blob/v6.0/Documentation/ABI/testing/sysfs-bus-pci#L344-L355\n",
            "2023-06-02 02:19:47.045024: I tensorflow/compiler/xla/stream_executor/cuda/cuda_gpu_executor.cc:996] successful NUMA node read from SysFS had negative value (-1), but there must be at least one NUMA node, so returning NUMA node zero. See more at https://github.com/torvalds/linux/blob/v6.0/Documentation/ABI/testing/sysfs-bus-pci#L344-L355\n",
            "2023-06-02 02:19:47.045203: I tensorflow/compiler/xla/stream_executor/cuda/cuda_gpu_executor.cc:996] successful NUMA node read from SysFS had negative value (-1), but there must be at least one NUMA node, so returning NUMA node zero. See more at https://github.com/torvalds/linux/blob/v6.0/Documentation/ABI/testing/sysfs-bus-pci#L344-L355\n",
            "2023-06-02 02:19:49.804418: I tensorflow/compiler/xla/stream_executor/cuda/cuda_gpu_executor.cc:996] successful NUMA node read from SysFS had negative value (-1), but there must be at least one NUMA node, so returning NUMA node zero. See more at https://github.com/torvalds/linux/blob/v6.0/Documentation/ABI/testing/sysfs-bus-pci#L344-L355\n",
            "2023-06-02 02:19:49.804712: I tensorflow/compiler/xla/stream_executor/cuda/cuda_gpu_executor.cc:996] successful NUMA node read from SysFS had negative value (-1), but there must be at least one NUMA node, so returning NUMA node zero. See more at https://github.com/torvalds/linux/blob/v6.0/Documentation/ABI/testing/sysfs-bus-pci#L344-L355\n",
            "2023-06-02 02:19:49.804902: I tensorflow/compiler/xla/stream_executor/cuda/cuda_gpu_executor.cc:996] successful NUMA node read from SysFS had negative value (-1), but there must be at least one NUMA node, so returning NUMA node zero. See more at https://github.com/torvalds/linux/blob/v6.0/Documentation/ABI/testing/sysfs-bus-pci#L344-L355\n",
            "2023-06-02 02:19:49.805042: W tensorflow/core/common_runtime/gpu/gpu_bfc_allocator.cc:47] Overriding orig_value setting because the TF_FORCE_GPU_ALLOW_GROWTH environment variable is set. Original config value was 0.\n",
            "2023-06-02 02:19:49.805084: I tensorflow/core/common_runtime/gpu/gpu_device.cc:1635] Created device /job:localhost/replica:0/task:0/device:GPU:0 with 13664 MB memory:  -> device: 0, name: Tesla T4, pci bus id: 0000:00:04.0, compute capability: 7.5\n",
            " * Serving Flask app 'app'\n",
            " * Debug mode: off\n",
            "\u001b[31m\u001b[1mWARNING: This is a development server. Do not use it in a production deployment. Use a production WSGI server instead.\u001b[0m\n",
            " * Running on http://127.0.0.1:5000\n",
            "\u001b[33mPress CTRL+C to quit\u001b[0m\n",
            " * Running on http://c907-35-240-174-88.ngrok-free.app\n",
            " * Traffic stats available on http://127.0.0.1:4040\n",
            "127.0.0.1 - - [02/Jun/2023 02:20:13] \"GET / HTTP/1.1\" 200 -\n",
            "127.0.0.1 - - [02/Jun/2023 02:20:15] \"\u001b[32mGET /static//css/styles.css HTTP/1.1\u001b[0m\" 308 -\n",
            "127.0.0.1 - - [02/Jun/2023 02:20:15] \"\u001b[32mGET /static//js/jquery_3.6.0.min.js HTTP/1.1\u001b[0m\" 308 -\n",
            "127.0.0.1 - - [02/Jun/2023 02:20:15] \"GET /static/css/styles.css HTTP/1.1\" 200 -\n",
            "127.0.0.1 - - [02/Jun/2023 02:20:15] \"GET /static/js/jquery_3.6.0.min.js HTTP/1.1\" 200 -\n",
            "127.0.0.1 - - [02/Jun/2023 02:20:16] \"\u001b[32mGET /static//js/client_side.js HTTP/1.1\u001b[0m\" 308 -\n",
            "127.0.0.1 - - [02/Jun/2023 02:20:17] \"\u001b[32mGET /static//js/scrollreveal.min.js HTTP/1.1\u001b[0m\" 308 -\n",
            "127.0.0.1 - - [02/Jun/2023 02:20:17] \"\u001b[32mGET /static//js/main.js HTTP/1.1\u001b[0m\" 308 -\n",
            "127.0.0.1 - - [02/Jun/2023 02:20:17] \"\u001b[32mGET /static//img/8.png HTTP/1.1\u001b[0m\" 308 -\n",
            "127.0.0.1 - - [02/Jun/2023 02:20:17] \"\u001b[32mGET /static//img/12.png HTTP/1.1\u001b[0m\" 308 -\n",
            "127.0.0.1 - - [02/Jun/2023 02:20:17] \"\u001b[32mGET /static//img/10.png HTTP/1.1\u001b[0m\" 308 -\n",
            "127.0.0.1 - - [02/Jun/2023 02:20:17] \"\u001b[32mGET /static//img/7.png HTTP/1.1\u001b[0m\" 308 -\n",
            "127.0.0.1 - - [02/Jun/2023 02:20:17] \"\u001b[32mGET /static//img/9.png HTTP/1.1\u001b[0m\" 308 -\n",
            "127.0.0.1 - - [02/Jun/2023 02:20:17] \"\u001b[32mGET /static//img/11.png HTTP/1.1\u001b[0m\" 308 -\n",
            "127.0.0.1 - - [02/Jun/2023 02:20:17] \"\u001b[32mGET /static//img/coba3.png HTTP/1.1\u001b[0m\" 308 -\n",
            "127.0.0.1 - - [02/Jun/2023 02:20:17] \"\u001b[32mGET /static//img/13.png HTTP/1.1\u001b[0m\" 308 -\n",
            "127.0.0.1 - - [02/Jun/2023 02:20:17] \"\u001b[32mGET /static//img/Potato1.png HTTP/1.1\u001b[0m\" 308 -\n",
            "127.0.0.1 - - [02/Jun/2023 02:20:17] \"\u001b[32mGET /static//img/4.png HTTP/1.1\u001b[0m\" 308 -\n",
            "127.0.0.1 - - [02/Jun/2023 02:20:17] \"\u001b[32mGET /static//img/1.png HTTP/1.1\u001b[0m\" 308 -\n",
            "127.0.0.1 - - [02/Jun/2023 02:20:17] \"\u001b[32mGET /static//img/Corn1.png HTTP/1.1\u001b[0m\" 308 -\n",
            "127.0.0.1 - - [02/Jun/2023 02:20:17] \"\u001b[32mGET /static//img/2.png HTTP/1.1\u001b[0m\" 308 -\n",
            "127.0.0.1 - - [02/Jun/2023 02:20:17] \"\u001b[32mGET /static//img/3.png HTTP/1.1\u001b[0m\" 308 -\n",
            "127.0.0.1 - - [02/Jun/2023 02:20:17] \"GET /static/js/client_side.js HTTP/1.1\" 200 -\n",
            "127.0.0.1 - - [02/Jun/2023 02:20:18] \"GET /static/img/8.png HTTP/1.1\" 200 -\n",
            "127.0.0.1 - - [02/Jun/2023 02:20:18] \"GET /static/js/scrollreveal.min.js HTTP/1.1\" 200 -\n",
            "127.0.0.1 - - [02/Jun/2023 02:20:18] \"GET /static/img/12.png HTTP/1.1\" 200 -\n",
            "127.0.0.1 - - [02/Jun/2023 02:20:18] \"GET /static/js/main.js HTTP/1.1\" 200 -\n",
            "127.0.0.1 - - [02/Jun/2023 02:20:18] \"GET /static/img/9.png HTTP/1.1\" 200 -\n",
            "127.0.0.1 - - [02/Jun/2023 02:20:18] \"GET /static/img/Potato1.png HTTP/1.1\" 200 -\n",
            "127.0.0.1 - - [02/Jun/2023 02:20:18] \"GET /static/img/11.png HTTP/1.1\" 200 -\n",
            "127.0.0.1 - - [02/Jun/2023 02:20:18] \"GET /static/img/10.png HTTP/1.1\" 200 -\n",
            "127.0.0.1 - - [02/Jun/2023 02:20:18] \"GET /static/img/7.png HTTP/1.1\" 200 -\n",
            "127.0.0.1 - - [02/Jun/2023 02:20:18] \"GET /static/img/coba3.png HTTP/1.1\" 200 -\n",
            "127.0.0.1 - - [02/Jun/2023 02:20:18] \"GET /static/img/4.png HTTP/1.1\" 200 -\n",
            "127.0.0.1 - - [02/Jun/2023 02:20:18] \"GET /static/img/13.png HTTP/1.1\" 200 -\n",
            "127.0.0.1 - - [02/Jun/2023 02:20:18] \"GET /static/img/1.png HTTP/1.1\" 200 -\n",
            "127.0.0.1 - - [02/Jun/2023 02:20:18] \"GET /static/img/2.png HTTP/1.1\" 200 -\n",
            "127.0.0.1 - - [02/Jun/2023 02:20:18] \"GET /static/img/Corn1.png HTTP/1.1\" 200 -\n",
            "127.0.0.1 - - [02/Jun/2023 02:20:18] \"GET /static/img/3.png HTTP/1.1\" 200 -\n",
            "127.0.0.1 - - [02/Jun/2023 02:20:47] \"\u001b[32mGET /static//img/favicon.png HTTP/1.1\u001b[0m\" 308 -\n",
            "127.0.0.1 - - [02/Jun/2023 02:20:48] \"GET /static/img/favicon.png HTTP/1.1\" 200 -\n",
            "2023-06-02 02:20:54.911659: I tensorflow/compiler/xla/stream_executor/cuda/cuda_dnn.cc:424] Loaded cuDNN version 8700\n",
            "1/1 [==============================] - 8s 8s/step\n",
            "127.0.0.1 - - [02/Jun/2023 02:20:59] \"POST /api/deteksi HTTP/1.1\" 200 -\n",
            "127.0.0.1 - - [02/Jun/2023 02:20:59] \"GET /static/img/uploads/PotatoEarlyBlight3.JPG HTTP/1.1\" 200 -\n",
            "1/1 [==============================] - 0s 19ms/step\n",
            "127.0.0.1 - - [02/Jun/2023 02:21:09] \"POST /api/deteksi HTTP/1.1\" 200 -\n",
            "127.0.0.1 - - [02/Jun/2023 02:21:10] \"GET /static/img/uploads/PotatoHealthy2.JPG HTTP/1.1\" 200 -\n",
            "1/1 [==============================] - 0s 17ms/step\n",
            "127.0.0.1 - - [02/Jun/2023 02:21:24] \"POST /api/deteksi HTTP/1.1\" 200 -\n",
            "127.0.0.1 - - [02/Jun/2023 02:21:24] \"GET /static/img/uploads/PotatoLateBlight1.JPG HTTP/1.1\" 200 -\n",
            "1/1 [==============================] - 0s 268ms/step\n",
            "127.0.0.1 - - [02/Jun/2023 02:21:45] \"POST /api/deteksijagung HTTP/1.1\" 200 -\n",
            "127.0.0.1 - - [02/Jun/2023 02:21:45] \"GET /static/img/uploads/Common_Rust-1.JPG HTTP/1.1\" 200 -\n",
            "1/1 [==============================] - 0s 27ms/step\n",
            "127.0.0.1 - - [02/Jun/2023 02:22:04] \"POST /api/deteksijagung HTTP/1.1\" 200 -\n",
            "127.0.0.1 - - [02/Jun/2023 02:22:05] \"GET /static/img/uploads/Healthy-3.jpg HTTP/1.1\" 200 -\n",
            "1/1 [==============================] - 0s 17ms/step\n",
            "127.0.0.1 - - [02/Jun/2023 02:22:18] \"POST /api/deteksijagung HTTP/1.1\" 200 -\n",
            "127.0.0.1 - - [02/Jun/2023 02:22:18] \"GET /static/img/uploads/Healthy-1.jpg HTTP/1.1\" 200 -\n"
          ]
        }
      ],
      "source": [
        "# Jalankan Aplikasi (Kode Python \"app.py\")\n",
        "!python3 app.py"
      ]
    }
  ],
  "metadata": {
    "accelerator": "GPU",
    "colab": {
      "provenance": []
    },
    "gpuClass": "standard",
    "kernelspec": {
      "display_name": "Python 3",
      "name": "python3"
    },
    "language_info": {
      "name": "python"
    }
  },
  "nbformat": 4,
  "nbformat_minor": 0
}